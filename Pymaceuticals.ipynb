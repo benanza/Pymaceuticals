{
 "cells": [
  {
   "cell_type": "markdown",
   "metadata": {},
   "source": [
    "## Observations and Insights"
   ]
  },
  {
   "cell_type": "markdown",
   "metadata": {},
   "source": [
    "* While the effectiveness of Capomulin seems to be comparable to Ramicane, it is significantly more effective than Infubinol and Ceftamine (based on the box plots of the final tumor volumes)\n",
    "\n",
    "* The heavier the mouse, the less effective the drug is (see scatter plot) because of the strong r-value correlation (0.95)\n",
    "\n",
    "* The results of the study are very consistent, thus reliable, as there is only 1 outlier in the data set for the top drugs, and none for Capomulin"
   ]
  },
  {
   "cell_type": "markdown",
   "metadata": {},
   "source": [
    "## Dependencies and starter code"
   ]
  },
  {
   "cell_type": "code",
   "execution_count": 35,
   "metadata": {},
   "outputs": [
    {
     "data": {
      "text/html": [
       "<div>\n",
       "<style scoped>\n",
       "    .dataframe tbody tr th:only-of-type {\n",
       "        vertical-align: middle;\n",
       "    }\n",
       "\n",
       "    .dataframe tbody tr th {\n",
       "        vertical-align: top;\n",
       "    }\n",
       "\n",
       "    .dataframe thead th {\n",
       "        text-align: right;\n",
       "    }\n",
       "</style>\n",
       "<table border=\"1\" class=\"dataframe\">\n",
       "  <thead>\n",
       "    <tr style=\"text-align: right;\">\n",
       "      <th></th>\n",
       "      <th>Mouse ID</th>\n",
       "      <th>Drug Regimen</th>\n",
       "      <th>Sex</th>\n",
       "      <th>Age_months</th>\n",
       "      <th>Weight (g)</th>\n",
       "      <th>Timepoint</th>\n",
       "      <th>Tumor Volume (mm3)</th>\n",
       "      <th>Metastatic Sites</th>\n",
       "    </tr>\n",
       "  </thead>\n",
       "  <tbody>\n",
       "    <tr>\n",
       "      <td>0</td>\n",
       "      <td>k403</td>\n",
       "      <td>Ramicane</td>\n",
       "      <td>Male</td>\n",
       "      <td>21</td>\n",
       "      <td>16</td>\n",
       "      <td>0</td>\n",
       "      <td>45.000000</td>\n",
       "      <td>0</td>\n",
       "    </tr>\n",
       "    <tr>\n",
       "      <td>1</td>\n",
       "      <td>k403</td>\n",
       "      <td>Ramicane</td>\n",
       "      <td>Male</td>\n",
       "      <td>21</td>\n",
       "      <td>16</td>\n",
       "      <td>5</td>\n",
       "      <td>38.825898</td>\n",
       "      <td>0</td>\n",
       "    </tr>\n",
       "    <tr>\n",
       "      <td>2</td>\n",
       "      <td>k403</td>\n",
       "      <td>Ramicane</td>\n",
       "      <td>Male</td>\n",
       "      <td>21</td>\n",
       "      <td>16</td>\n",
       "      <td>10</td>\n",
       "      <td>35.014271</td>\n",
       "      <td>1</td>\n",
       "    </tr>\n",
       "    <tr>\n",
       "      <td>3</td>\n",
       "      <td>k403</td>\n",
       "      <td>Ramicane</td>\n",
       "      <td>Male</td>\n",
       "      <td>21</td>\n",
       "      <td>16</td>\n",
       "      <td>15</td>\n",
       "      <td>34.223992</td>\n",
       "      <td>1</td>\n",
       "    </tr>\n",
       "    <tr>\n",
       "      <td>4</td>\n",
       "      <td>k403</td>\n",
       "      <td>Ramicane</td>\n",
       "      <td>Male</td>\n",
       "      <td>21</td>\n",
       "      <td>16</td>\n",
       "      <td>20</td>\n",
       "      <td>32.997729</td>\n",
       "      <td>1</td>\n",
       "    </tr>\n",
       "  </tbody>\n",
       "</table>\n",
       "</div>"
      ],
      "text/plain": [
       "  Mouse ID Drug Regimen   Sex  Age_months  Weight (g)  Timepoint  \\\n",
       "0     k403     Ramicane  Male          21          16          0   \n",
       "1     k403     Ramicane  Male          21          16          5   \n",
       "2     k403     Ramicane  Male          21          16         10   \n",
       "3     k403     Ramicane  Male          21          16         15   \n",
       "4     k403     Ramicane  Male          21          16         20   \n",
       "\n",
       "   Tumor Volume (mm3)  Metastatic Sites  \n",
       "0           45.000000                 0  \n",
       "1           38.825898                 0  \n",
       "2           35.014271                 1  \n",
       "3           34.223992                 1  \n",
       "4           32.997729                 1  "
      ]
     },
     "execution_count": 35,
     "metadata": {},
     "output_type": "execute_result"
    }
   ],
   "source": [
    "# Dependencies and Setup\n",
    "import matplotlib.pyplot as plt\n",
    "import pandas as pd\n",
    "import scipy.stats as st\n",
    "from scipy.stats import linregress\n",
    "from scipy.stats import sem\n",
    "import numpy as np\n",
    "\n",
    "# Study data files\n",
    "mouse_metadata = \"data/Mouse_metadata.csv\"\n",
    "study_results = \"data/Study_results.csv\"\n",
    "\n",
    "# Read the mouse data and the study results\n",
    "mouse_metadata = pd.read_csv(mouse_metadata)\n",
    "study_results = pd.read_csv(study_results)\n",
    "\n",
    "# Combine the data into a single dataset\n",
    "data_df = pd.merge(mouse_metadata, study_results, how='outer', on='Mouse ID')\n",
    "data_df.head()"
   ]
  },
  {
   "cell_type": "markdown",
   "metadata": {},
   "source": [
    "## Summary statistics"
   ]
  },
  {
   "cell_type": "code",
   "execution_count": 36,
   "metadata": {},
   "outputs": [
    {
     "data": {
      "text/html": [
       "<div>\n",
       "<style scoped>\n",
       "    .dataframe tbody tr th:only-of-type {\n",
       "        vertical-align: middle;\n",
       "    }\n",
       "\n",
       "    .dataframe tbody tr th {\n",
       "        vertical-align: top;\n",
       "    }\n",
       "\n",
       "    .dataframe thead th {\n",
       "        text-align: right;\n",
       "    }\n",
       "</style>\n",
       "<table border=\"1\" class=\"dataframe\">\n",
       "  <thead>\n",
       "    <tr style=\"text-align: right;\">\n",
       "      <th></th>\n",
       "      <th>Mean</th>\n",
       "      <th>Median</th>\n",
       "      <th>Standard Deviation</th>\n",
       "      <th>SEM</th>\n",
       "    </tr>\n",
       "    <tr>\n",
       "      <th>Drug Regimen</th>\n",
       "      <th></th>\n",
       "      <th></th>\n",
       "      <th></th>\n",
       "      <th></th>\n",
       "    </tr>\n",
       "  </thead>\n",
       "  <tbody>\n",
       "    <tr>\n",
       "      <td>Capomulin</td>\n",
       "      <td>40.675741</td>\n",
       "      <td>41.557809</td>\n",
       "      <td>4.994774</td>\n",
       "      <td>0.329346</td>\n",
       "    </tr>\n",
       "    <tr>\n",
       "      <td>Ceftamin</td>\n",
       "      <td>52.591172</td>\n",
       "      <td>51.776157</td>\n",
       "      <td>6.268188</td>\n",
       "      <td>0.469821</td>\n",
       "    </tr>\n",
       "    <tr>\n",
       "      <td>Infubinol</td>\n",
       "      <td>52.884795</td>\n",
       "      <td>51.820584</td>\n",
       "      <td>6.567243</td>\n",
       "      <td>0.492236</td>\n",
       "    </tr>\n",
       "    <tr>\n",
       "      <td>Ketapril</td>\n",
       "      <td>55.235638</td>\n",
       "      <td>53.698743</td>\n",
       "      <td>8.279709</td>\n",
       "      <td>0.603860</td>\n",
       "    </tr>\n",
       "    <tr>\n",
       "      <td>Naftisol</td>\n",
       "      <td>54.331565</td>\n",
       "      <td>52.509285</td>\n",
       "      <td>8.134708</td>\n",
       "      <td>0.596466</td>\n",
       "    </tr>\n",
       "  </tbody>\n",
       "</table>\n",
       "</div>"
      ],
      "text/plain": [
       "                   Mean     Median  Standard Deviation       SEM\n",
       "Drug Regimen                                                    \n",
       "Capomulin     40.675741  41.557809            4.994774  0.329346\n",
       "Ceftamin      52.591172  51.776157            6.268188  0.469821\n",
       "Infubinol     52.884795  51.820584            6.567243  0.492236\n",
       "Ketapril      55.235638  53.698743            8.279709  0.603860\n",
       "Naftisol      54.331565  52.509285            8.134708  0.596466"
      ]
     },
     "execution_count": 36,
     "metadata": {},
     "output_type": "execute_result"
    }
   ],
   "source": [
    "# Generate a summary statistics table of mean, median, variance, standard deviation, and SEM of the tumor volume for each regimen\n",
    "\n",
    "# Group data by Drug Regimen\n",
    "summary_df = data_df.groupby('Drug Regimen')\n",
    "\n",
    "# Calculate the mean, median, standard deviation, and sem for each drug\n",
    "tumor_mean = summary_df['Tumor Volume (mm3)'].mean()\n",
    "tumor_median = summary_df['Tumor Volume (mm3)'].median()\n",
    "tumor_stdev = summary_df['Tumor Volume (mm3)'].std()\n",
    "tumor_sem = summary_df['Tumor Volume (mm3)'].sem()\n",
    "\n",
    "# Create DataFrame to summarize calculations\n",
    "summary_grouped_df = pd.DataFrame({'Mean': tumor_mean, 'Median': tumor_median,\n",
    "                                   'Standard Deviation': tumor_stdev, 'SEM': tumor_sem})\n",
    "\n",
    "summary_grouped_df.head()"
   ]
  },
  {
   "cell_type": "markdown",
   "metadata": {},
   "source": [
    "## Bar plots"
   ]
  },
  {
   "cell_type": "code",
   "execution_count": 41,
   "metadata": {},
   "outputs": [
    {
     "data": {
      "image/png": "[encoded data removed]",
      "text/plain": [
       "<Figure size 432x288 with 1 Axes>"
      ]
     },
     "metadata": {
      "needs_background": "light"
     },
     "output_type": "display_data"
    }
   ],
   "source": [
    "# Generate a bar plot showing number of data points for each treatment regimen using pandas\n",
    "\n",
    "# Plot a bar chart (.plot.bar()) based on the amount of data points (.value_counts())\n",
    "# for each treatment regimen (data_df['Drug Regimen'])\n",
    "bar_plot = data_df['Drug Regimen'].value_counts().plot.bar(width=0.7, zorder=3)\n",
    "\n",
    "# Set labels for axes\n",
    "bar_plot.set_xlabel(\"Drug Regimen\")\n",
    "bar_plot.set_ylabel(\"Number of Data Points\")\n",
    "bar_plot.set_title(\"Number of Data Points for Each Treatment Regimen\")\n",
    "\n",
    "# Create a grid - using 'zorder' places grid behind the bars since we set their z-order higher\n",
    "bar_plot.grid(zorder=0)"
   ]
  },
  {
   "cell_type": "code",
   "execution_count": 43,
   "metadata": {},
   "outputs": [
    {
     "data": {
      "image/png": "[encoded data removed]",
      "text/plain": [
       "<Figure size 432x288 with 1 Axes>"
      ]
     },
     "metadata": {
      "needs_background": "light"
     },
     "output_type": "display_data"
    }
   ],
   "source": [
    "# Generate a bar plot showing number of data points for each treatment regimen using pyplot\n",
    "\n",
    "# Calculate the amount of data points for each drug regimen\n",
    "counts = data_df['Drug Regimen'].value_counts()\n",
    "\n",
    "# Set the x_axis to the length of the 'counts' series\n",
    "x_axis = np.arange(len(counts))\n",
    "\n",
    "# Generate a bar blot with the length of the 'counts' series\n",
    "# as the amount of values on the x axis, and the corresponding values\n",
    "# in the series as the y values\n",
    "plt.bar(x_axis, counts, width = 0.7, zorder=3)\n",
    "\n",
    "# Label the tick marks according to the index values in the 'counts' series\n",
    "tick_locations = [value for value in x_axis]\n",
    "plt.xticks(tick_locations, counts.index.values)\n",
    "\n",
    "# Rotate tick marks 90 degrees for visibility\n",
    "plt.xticks(rotation=90)\n",
    "\n",
    "# Set labels for axes\n",
    "plt.xlabel(\"Drug Regimen\")\n",
    "plt.ylabel(\"Number of Data Points\")\n",
    "plt.title('Number of Data Points for Each Treatment Regimen')\n",
    "\n",
    "# Create a grid - using 'zorder' places grid behind the bars since we set their z-order higher\n",
    "plt.grid(zorder=0)\n",
    "\n",
    "# Display resulting plot\n",
    "plt.show()"
   ]
  },
  {
   "cell_type": "markdown",
   "metadata": {},
   "source": [
    "## Pie plots"
   ]
  },
  {
   "cell_type": "code",
   "execution_count": 44,
   "metadata": {},
   "outputs": [
    {
     "data": {
      "text/plain": [
       "Text(0, 0.5, '')"
      ]
     },
     "execution_count": 44,
     "metadata": {},
     "output_type": "execute_result"
    },
    {
     "data": {
      "image/png": "[encoded data removed]",
      "text/plain": [
       "<Figure size 432x288 with 1 Axes>"
      ]
     },
     "metadata": {},
     "output_type": "display_data"
    }
   ],
   "source": [
    "# Generate a pie plot showing the distribution of female versus male mice using pandas\n",
    "\n",
    "# Identify distribution of data by sex\n",
    "data = data_df['Sex'].value_counts()\n",
    "\n",
    "# Plot a pie chart filled with corresponding percentages and displayed vertically\n",
    "pie_plot = data.plot.pie(autopct=\"%1.1f%%\", startangle=90, title='Distribution by Sex')\n",
    "\n",
    "# Hide the 'y' label\n",
    "pie_plot.set_ylabel('')"
   ]
  },
  {
   "cell_type": "code",
   "execution_count": 45,
   "metadata": {},
   "outputs": [
    {
     "data": {
      "image/png": "[encoded data removed]",
      "text/plain": [
       "<Figure size 432x288 with 1 Axes>"
      ]
     },
     "metadata": {},
     "output_type": "display_data"
    }
   ],
   "source": [
    "# Generate a pie plot showing the distribution of female versus male mice using pyplot\n",
    "\n",
    "# Identify distribution of data by sex\n",
    "data = data_df['Sex'].value_counts()\n",
    "\n",
    "# Tell matplotlib to create a pie chart filled with corresponding percentages and displayed vertically\n",
    "plt.pie(data, labels=data.index.values, autopct=\"%1.1f%%\", startangle=90)\n",
    "\n",
    "# Display resulting plot\n",
    "plt.show()"
   ]
  },
  {
   "cell_type": "markdown",
   "metadata": {},
   "source": [
    "## Quartiles, outliers and boxplots"
   ]
  },
  {
   "cell_type": "code",
   "execution_count": 46,
   "metadata": {},
   "outputs": [
    {
     "data": {
      "text/html": [
       "<div>\n",
       "<style scoped>\n",
       "    .dataframe tbody tr th:only-of-type {\n",
       "        vertical-align: middle;\n",
       "    }\n",
       "\n",
       "    .dataframe tbody tr th {\n",
       "        vertical-align: top;\n",
       "    }\n",
       "\n",
       "    .dataframe thead th {\n",
       "        text-align: right;\n",
       "    }\n",
       "</style>\n",
       "<table border=\"1\" class=\"dataframe\">\n",
       "  <thead>\n",
       "    <tr style=\"text-align: right;\">\n",
       "      <th></th>\n",
       "      <th>Mouse ID</th>\n",
       "      <th>Drug Regimen</th>\n",
       "      <th>Sex</th>\n",
       "      <th>Age_months</th>\n",
       "      <th>Weight (g)</th>\n",
       "      <th>Timepoint</th>\n",
       "      <th>Tumor Volume (mm3)</th>\n",
       "      <th>Metastatic Sites</th>\n",
       "      <th>max_timepoint</th>\n",
       "    </tr>\n",
       "  </thead>\n",
       "  <tbody>\n",
       "    <tr>\n",
       "      <td>0</td>\n",
       "      <td>k403</td>\n",
       "      <td>Ramicane</td>\n",
       "      <td>Male</td>\n",
       "      <td>21</td>\n",
       "      <td>16</td>\n",
       "      <td>0</td>\n",
       "      <td>45.000000</td>\n",
       "      <td>0</td>\n",
       "      <td>45</td>\n",
       "    </tr>\n",
       "    <tr>\n",
       "      <td>1</td>\n",
       "      <td>k403</td>\n",
       "      <td>Ramicane</td>\n",
       "      <td>Male</td>\n",
       "      <td>21</td>\n",
       "      <td>16</td>\n",
       "      <td>5</td>\n",
       "      <td>38.825898</td>\n",
       "      <td>0</td>\n",
       "      <td>45</td>\n",
       "    </tr>\n",
       "    <tr>\n",
       "      <td>2</td>\n",
       "      <td>k403</td>\n",
       "      <td>Ramicane</td>\n",
       "      <td>Male</td>\n",
       "      <td>21</td>\n",
       "      <td>16</td>\n",
       "      <td>10</td>\n",
       "      <td>35.014271</td>\n",
       "      <td>1</td>\n",
       "      <td>45</td>\n",
       "    </tr>\n",
       "    <tr>\n",
       "      <td>3</td>\n",
       "      <td>k403</td>\n",
       "      <td>Ramicane</td>\n",
       "      <td>Male</td>\n",
       "      <td>21</td>\n",
       "      <td>16</td>\n",
       "      <td>15</td>\n",
       "      <td>34.223992</td>\n",
       "      <td>1</td>\n",
       "      <td>45</td>\n",
       "    </tr>\n",
       "    <tr>\n",
       "      <td>4</td>\n",
       "      <td>k403</td>\n",
       "      <td>Ramicane</td>\n",
       "      <td>Male</td>\n",
       "      <td>21</td>\n",
       "      <td>16</td>\n",
       "      <td>20</td>\n",
       "      <td>32.997729</td>\n",
       "      <td>1</td>\n",
       "      <td>45</td>\n",
       "    </tr>\n",
       "  </tbody>\n",
       "</table>\n",
       "</div>"
      ],
      "text/plain": [
       "  Mouse ID Drug Regimen   Sex  Age_months  Weight (g)  Timepoint  \\\n",
       "0     k403     Ramicane  Male          21          16          0   \n",
       "1     k403     Ramicane  Male          21          16          5   \n",
       "2     k403     Ramicane  Male          21          16         10   \n",
       "3     k403     Ramicane  Male          21          16         15   \n",
       "4     k403     Ramicane  Male          21          16         20   \n",
       "\n",
       "   Tumor Volume (mm3)  Metastatic Sites  max_timepoint  \n",
       "0           45.000000                 0             45  \n",
       "1           38.825898                 0             45  \n",
       "2           35.014271                 1             45  \n",
       "3           34.223992                 1             45  \n",
       "4           32.997729                 1             45  "
      ]
     },
     "execution_count": 46,
     "metadata": {},
     "output_type": "execute_result"
    }
   ],
   "source": [
    "# Find max timepoint for each mouse\n",
    "\n",
    "max_tp_df = pd.DataFrame(data_df.groupby('Mouse ID')['Timepoint'].max().sort_values()).reset_index().rename(columns={'Timepoint': 'max_timepoint'})\n",
    "max_tp_df\n",
    "\n",
    "# Merge max timepoint onto data_df\n",
    "merged_df = pd.merge(data_df, max_tp_df, on='Mouse ID')\n",
    "merged_df.head()"
   ]
  },
  {
   "cell_type": "code",
   "execution_count": 47,
   "metadata": {},
   "outputs": [
    {
     "name": "stdout",
     "output_type": "stream",
     "text": [
      "IQR for Capomulin: 7.781863460000004\n",
      "Lower Bound for Capomulin: 20.70456164999999\n",
      "Upper Bound for Capomulin: 51.83201549\n",
      "Number of Capomulin outliers: 0\n",
      "IQR for Ramicane: 9.098536719999998\n",
      "Lower Bound for Ramicane: 17.912664470000003\n",
      "Upper Bound for Ramicane: 54.30681135\n",
      "Number of Ramicane outliers: 0\n",
      "IQR for Infubinol: 11.477135160000003\n",
      "Lower Bound for Infubinol: 36.83290494999999\n",
      "Upper Bound for Infubinol: 82.74144559000001\n",
      "Number of Infubinol outliers: 1\n",
      "IQR for Ceftamin: 15.577752179999997\n",
      "Lower Bound for Ceftamin: 25.355449580000002\n",
      "Upper Bound for Ceftamin: 87.66645829999999\n",
      "Number of Ceftamin outliers: 0\n"
     ]
    }
   ],
   "source": [
    "# Calculate the final tumor volume of each mouse across four of the most promising treatment regimens.\n",
    "# Calculate the IQR and quantitatively determine if there are any potential outliers.\n",
    "\n",
    "# Create subset dataframe representing only the four following drug regimens\n",
    "# ***NOTE*** must run previous cells in order for this cell to work\n",
    "\n",
    "drugs = ['Capomulin', 'Ramicane', 'Infubinol', 'Ceftamin']\n",
    "drug_values = []\n",
    "\n",
    "# Locate each drug from our list 'drugs' in the orginal dataframe\n",
    "for drug in drugs:\n",
    "    \n",
    "    temp_df = merged_df.loc[merged_df['Drug Regimen'] == drug]\n",
    "\n",
    "    # Create subset dataframes that narrow down to rows only containing the final timepoint for each regimen\n",
    "    final_volume_df = temp_df.loc[temp_df['Timepoint'] == temp_df['max_timepoint']]\n",
    "    \n",
    "    # Create a series that consists of all final volume values for each regimen\n",
    "    values = final_volume_df['Tumor Volume (mm3)']\n",
    "    drug_values.append(values)\n",
    "    \n",
    "    # Calculate and print the interquartile range (IQR) for each regimen\n",
    "    quartiles = values.quantile([.25,.5,.75])\n",
    "    lowerq = quartiles[0.25]\n",
    "    upperq = quartiles[0.75]\n",
    "    iqr = upperq-lowerq\n",
    "    print(f'IQR for {drug}: {iqr}')\n",
    "    \n",
    "    # Find upper and lower bounds to help identify outliers for each regimen\n",
    "    lower_bound = lowerq - (1.5*iqr)\n",
    "    upper_bound = upperq + (1.5*iqr)\n",
    "    print(f'Lower Bound for {drug}: {lower_bound}')\n",
    "    print(f'Upper Bound for {drug}: {upper_bound}')\n",
    "    \n",
    "    # Quantitatively check for outliers\n",
    "    outliers_count = (values.loc[(final_volume_df['Tumor Volume (mm3)'] >= upper_bound) | \n",
    "                                        (final_volume_df['Tumor Volume (mm3)'] <= lower_bound)]).count()\n",
    "    print(f'Number of {drug} outliers: {outliers_count}')"
   ]
  },
  {
   "cell_type": "code",
   "execution_count": 48,
   "metadata": {
    "scrolled": true
   },
   "outputs": [
    {
     "data": {
      "image/png": "[encoded data removed]",
      "text/plain": [
       "<Figure size 432x288 with 1 Axes>"
      ]
     },
     "metadata": {
      "needs_background": "light"
     },
     "output_type": "display_data"
    }
   ],
   "source": [
    "# Generate a box plot of the final tumor volume of each mouse across four regimens of interest\n",
    "\n",
    "# ***NOTE*** must run previous cells in order for this cell to work\n",
    "\n",
    "# Edit outliers on boxplot for visibility\n",
    "flierprops = dict(marker='o', markerfacecolor='r', markersize=8, markeredgecolor='black')\n",
    "\n",
    "# Plot boxplot\n",
    "plt.boxplot(drug_values, flierprops=flierprops)\n",
    "\n",
    "# Add title and labels to boxplot\n",
    "plt.title('Final Tumor Volume by Drug')\n",
    "plt.ylabel('Final Tumor Volume (mm3)')\n",
    "plt.xticks([1, 2, 3, 4], ['Capomulin', 'Ramicane', 'Infubinol', 'Ceftamin'])\n",
    "\n",
    "plt.show()"
   ]
  },
  {
   "cell_type": "markdown",
   "metadata": {},
   "source": [
    "## Line and scatter plots"
   ]
  },
  {
   "cell_type": "code",
   "execution_count": 49,
   "metadata": {},
   "outputs": [
    {
     "data": {
      "image/png": "[encoded data removed]",
      "text/plain": [
       "<Figure size 432x288 with 1 Axes>"
      ]
     },
     "metadata": {
      "needs_background": "light"
     },
     "output_type": "display_data"
    }
   ],
   "source": [
    "# Generate a line plot of time point versus tumor volume for a mouse treated with Capomulin\n",
    "\n",
    "# Identify data points of a mouse treated with Capomulin\n",
    "mouse = data_df.loc[data_df['Mouse ID'] == 's185']\n",
    "\n",
    "# Plot a line chart with the time values on the x-axis and the tumor volume values on the y-axis\n",
    "# marker = 'o' adds circles on each data point for visibility\n",
    "plt.plot(mouse['Timepoint'], mouse['Tumor Volume (mm3)'], marker = 'o')\n",
    "\n",
    "# Add labels and title to plot\n",
    "plt.xlabel(\"Time\")\n",
    "plt.ylabel(\"Tumor Volume\")\n",
    "plt.title(\"Tumor Volume Over Time Using Capomulin\")\n",
    "\n",
    "# Display plot\n",
    "plt.show()"
   ]
  },
  {
   "cell_type": "code",
   "execution_count": 50,
   "metadata": {},
   "outputs": [
    {
     "data": {
      "image/png": "[encoded data removed]",
      "text/plain": [
       "<Figure size 432x288 with 1 Axes>"
      ]
     },
     "metadata": {
      "needs_background": "light"
     },
     "output_type": "display_data"
    }
   ],
   "source": [
    "# Generate a scatter plot of mouse weight versus average tumor volume for the Capomulin regimen\n",
    "\n",
    "# Isolate cases that only use the Capomulin regimen\n",
    "capomulin_df = data_df.loc[data_df['Drug Regimen'] == 'Capomulin']\n",
    "\n",
    "# Group mice by weight\n",
    "weight_df = capomulin_df.groupby('Weight (g)')\n",
    "\n",
    "# Calculate average tumor volume for each weight value\n",
    "avg_volume = weight_df['Tumor Volume (mm3)'].mean()\n",
    "\n",
    "# Generate a dataframe that shows average tumor volume for each weight\n",
    "scatter_df = pd.DataFrame({'Average Volume': avg_volume})\n",
    "\n",
    "# Create a scatter plot based on new dataframe above with circle markers and listed colors\n",
    "plt.scatter(scatter_df.index.values, avg_volume, marker=\"o\",\n",
    "            facecolors=\"red\", edgecolors=\"black\")\n",
    "\n",
    "# Add labels and title to plot\n",
    "plt.xlabel(\"Weight (g)\")\n",
    "plt.ylabel(\"Average Tumor Volume\")\n",
    "plt.title('Tumor Volume by Weight')\n",
    "# Display plot\n",
    "plt.show()"
   ]
  },
  {
   "cell_type": "code",
   "execution_count": 51,
   "metadata": {},
   "outputs": [
    {
     "name": "stdout",
     "output_type": "stream",
     "text": [
      "The correlation between weight and average tumor volume\n",
      "on the Capomulin regimen is 0.95.\n"
     ]
    },
    {
     "data": {
      "image/png": "[encoded data removed]",
      "text/plain": [
       "<Figure size 432x288 with 1 Axes>"
      ]
     },
     "metadata": {
      "needs_background": "light"
     },
     "output_type": "display_data"
    }
   ],
   "source": [
    "# Calculate the correlation coefficient and linear regression model for mouse weight and average tumor volume for the Capomulin regimen\n",
    "\n",
    "# Duplicate code for scatter plot from above:\n",
    "\n",
    "capomulin_df = data_df.loc[data_df['Drug Regimen'] == 'Capomulin']\n",
    "weight_df = capomulin_df.groupby('Weight (g)')\n",
    "avg_volume = weight_df['Tumor Volume (mm3)'].mean()\n",
    "scatter_df = pd.DataFrame({'Average Volume': avg_volume})\n",
    "weight = scatter_df.index.values\n",
    "\n",
    "# Calculate the correlation coefficient between mouse weight and average tumor volume\n",
    "correlation = st.pearsonr(weight,avg_volume)\n",
    "\n",
    "# Print the answer to above calculation\n",
    "print(f\"\"\"The correlation between weight and average tumor volume\n",
    "on the Capomulin regimen is {round(correlation[0],2)}.\"\"\")\n",
    "\n",
    "# Calculate linear regression\n",
    "(slope, intercept, rvalue, pvalue, stderr) = linregress(weight, avg_volume)\n",
    "regress_values = weight * slope + intercept\n",
    "line_eq = \"y = \" + str(round(slope,2)) + \"x + \" + str(round(intercept,2))\n",
    "\n",
    "# Plot linear regression on top of scatter plot\n",
    "plt.scatter(weight,avg_volume)\n",
    "plt.plot(weight,regress_values,\"r-\")\n",
    "\n",
    "# Annotate linear regression\n",
    "plt.annotate(line_eq,(20,37),fontsize=15,color=\"red\")\n",
    "\n",
    "# Add labels and title to plot\n",
    "plt.xlabel(\"Weight (g)\")\n",
    "plt.ylabel(\"Average Tumor Volume\")\n",
    "plt.title('Tumor Volume by Weight')\n",
    "plt.show()"
   ]
  }
 ],
 "metadata": {
  "anaconda-cloud": {},
  "kernelspec": {
   "display_name": "Python 3.7.4 64-bit ('anaconda3': virtualenv)",
   "language": "python",
   "name": "python37464bitanaconda3virtualenv9ba86b381f5a4faa9f05a39cd655ba1d"
  },
  "language_info": {
   "codemirror_mode": {
    "name": "ipython",
    "version": 3
   },
   "file_extension": ".py",
   "mimetype": "text/x-python",
   "name": "python",
   "nbconvert_exporter": "python",
   "pygments_lexer": "ipython3",
   "version": "3.7.4"
  }
 },
 "nbformat": 4,
 "nbformat_minor": 2
}
